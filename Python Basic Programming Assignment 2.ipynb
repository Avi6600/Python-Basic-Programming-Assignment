{
 "cells": [
  {
   "cell_type": "markdown",
   "id": "e1d3c448",
   "metadata": {},
   "source": [
    "### 1. Write a Python program to convert kilometers to miles?"
   ]
  },
  {
   "cell_type": "code",
   "execution_count": 14,
   "id": "86a1bad4",
   "metadata": {},
   "outputs": [
    {
     "name": "stdout",
     "output_type": "stream",
     "text": [
      "Enter the kilometer you want to convert6\n",
      "The given conversion of kilometres to mile were:  3.7282260000000003 miles\n"
     ]
    }
   ],
   "source": [
    "a = int(input(\"Enter the kilometer you want to convert\"))\n",
    "b = 0.621371\n",
    "\n",
    "km = a*b\n",
    "print(\"The given conversion of kilometres to mile were: \", km,\"miles\")"
   ]
  },
  {
   "cell_type": "markdown",
   "id": "58edc004",
   "metadata": {},
   "source": [
    "### 2. Write a Python program to convert Celsius to Fahrenheit?"
   ]
  },
  {
   "cell_type": "code",
   "execution_count": 15,
   "id": "5639c050",
   "metadata": {},
   "outputs": [
    {
     "name": "stdout",
     "output_type": "stream",
     "text": [
      "Enter the Celcius Number 6\n",
      "Your Fahrenheit is: -14.444444444444445 F\n"
     ]
    }
   ],
   "source": [
    "x = float(input(\"Enter the Celcius Number \"))\n",
    "y = (x-32) /1.8\n",
    "print(\"Your Fahrenheit is:\" ,y,\"F\")\n"
   ]
  },
  {
   "cell_type": "markdown",
   "id": "82414c8e",
   "metadata": {},
   "source": [
    "### 3. Write a Python program to display calendar?"
   ]
  },
  {
   "cell_type": "code",
   "execution_count": 8,
   "id": "c0f9b3f5",
   "metadata": {},
   "outputs": [
    {
     "name": "stdout",
     "output_type": "stream",
     "text": [
      "Enter the year: 2022\n",
      "Enter the month: 10\n",
      "    October 2022\n",
      "Mo Tu We Th Fr Sa Su\n",
      "                1  2\n",
      " 3  4  5  6  7  8  9\n",
      "10 11 12 13 14 15 16\n",
      "17 18 19 20 21 22 23\n",
      "24 25 26 27 28 29 30\n",
      "31\n",
      "\n"
     ]
    }
   ],
   "source": [
    "import calendar\n",
    "yy = int(input(\"Enter the year: \" ))\n",
    "mm = int(input(\"Enter the month: \"))\n",
    "\n",
    "print(calendar.month(yy,mm))"
   ]
  },
  {
   "cell_type": "markdown",
   "id": "e2db3c25",
   "metadata": {},
   "source": [
    "### 4.\tWrite a Python program to solve quadratic equation?"
   ]
  },
  {
   "cell_type": "code",
   "execution_count": 12,
   "id": "4d0311ef",
   "metadata": {},
   "outputs": [
    {
     "name": "stdout",
     "output_type": "stream",
     "text": [
      "Enter the number1\n",
      "Enter the number5\n",
      "Enter the number6\n",
      "The solution are(-3+0j) and(-2+0j): \n"
     ]
    }
   ],
   "source": [
    "\"\"\" ax2 + bx + c = 0, where\n",
    "a, b and c are real numbers and\n",
    "a ≠ 0 \"\"\"\n",
    "\n",
    "#Solve the quadratic equation ax**2 + bx + c = 0\n",
    "#import complex math library\n",
    "\n",
    "import cmath\n",
    "\n",
    "a = int(input(\"Enter the number\"))\n",
    "b = int(input(\"Enter the number\"))\n",
    "c = int(input(\"Enter the number\"))\n",
    "# calculate the dicriminant\n",
    "d = (b**2)-(4*a*c)\n",
    "#Find the two solution\n",
    "sol_1 = (-b-cmath.sqrt(d))/(2*a)\n",
    "sol_2 = (-b+cmath.sqrt(d))/(2*a)\n",
    "print('The solution are{0} and{1}: '.format(sol_1,sol_2) )"
   ]
  },
  {
   "cell_type": "markdown",
   "id": "d61dd467",
   "metadata": {},
   "source": [
    "### 5.\tWrite a Python program to swap two variables without temp variable?"
   ]
  },
  {
   "cell_type": "code",
   "execution_count": 13,
   "id": "dffd00a9",
   "metadata": {},
   "outputs": [
    {
     "name": "stdout",
     "output_type": "stream",
     "text": [
      "20 10\n"
     ]
    }
   ],
   "source": [
    "a = 10\n",
    "b = 20\n",
    "a,b = b,a\n",
    "print(a,b)"
   ]
  },
  {
   "cell_type": "code",
   "execution_count": null,
   "id": "a24e15fd",
   "metadata": {},
   "outputs": [],
   "source": []
  }
 ],
 "metadata": {
  "kernelspec": {
   "display_name": "Python 3 (ipykernel)",
   "language": "python",
   "name": "python3"
  },
  "language_info": {
   "codemirror_mode": {
    "name": "ipython",
    "version": 3
   },
   "file_extension": ".py",
   "mimetype": "text/x-python",
   "name": "python",
   "nbconvert_exporter": "python",
   "pygments_lexer": "ipython3",
   "version": "3.9.12"
  }
 },
 "nbformat": 4,
 "nbformat_minor": 5
}
