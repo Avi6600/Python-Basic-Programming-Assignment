{
 "cells": [
  {
   "cell_type": "markdown",
   "id": "6cee3fc4",
   "metadata": {},
   "source": [
    "## 1. Write a Python program to check if the given number is a Disarium Number?"
   ]
  },
  {
   "cell_type": "code",
   "execution_count": 1,
   "id": "6bb6c923",
   "metadata": {},
   "outputs": [
    {
     "name": "stdout",
     "output_type": "stream",
     "text": [
      "Enter a Number: 9\n",
      "9 is a Disarium Number\n",
      "Enter a Number: 8\n",
      "8 is a Disarium Number\n"
     ]
    }
   ],
   "source": [
    "def checkDisariumNumber():\n",
    "    in_num = input('Enter a Number: ')\n",
    "    sum = 0\n",
    "    for item in range(len(in_num)):\n",
    "        sum = sum + int(in_num[item])**(item+1)\n",
    "    if sum == int(in_num):\n",
    "        print(f'{in_num} is a Disarium Number')\n",
    "    else:\n",
    "        print(f'{in_num} is a Not Disarium Number') \n",
    "\n",
    "checkDisariumNumber()\n",
    "checkDisariumNumber()"
   ]
  },
  {
   "cell_type": "markdown",
   "id": "028f8584",
   "metadata": {},
   "source": [
    "# 2. Write a Python program to print all disarium numbers between 1 to 100?"
   ]
  },
  {
   "cell_type": "code",
   "execution_count": 2,
   "id": "a4c686c0",
   "metadata": {},
   "outputs": [
    {
     "name": "stdout",
     "output_type": "stream",
     "text": [
      "Disarium no in range 1 to 100\n",
      "[1, 2, 3, 4, 5, 6, 7, 8, 9, 89]\n"
     ]
    }
   ],
   "source": [
    "def Disarium(num):\n",
    "    sum = 0\n",
    "    while(num>0):\n",
    "        l= len(str(num))\n",
    "        no = num%10\n",
    "        sum= sum + no**l   \n",
    "        l-=1\n",
    "        num = num//10\n",
    "    return sum\n",
    "\n",
    "print(\"Disarium no in range 1 to 100\")\n",
    "\n",
    "dis_no = []\n",
    "\n",
    "for i in range(1,101):\n",
    "    sum = 0\n",
    "    sum = Disarium(i)\n",
    "    if sum == i:\n",
    "        dis_no.append(i)        \n",
    "print(dis_no)"
   ]
  },
  {
   "cell_type": "markdown",
   "id": "87bc7a5e",
   "metadata": {},
   "source": [
    "# 3. Write a Python program to check if the given number is Happy Number?"
   ]
  },
  {
   "cell_type": "code",
   "execution_count": 10,
   "id": "61581cc5",
   "metadata": {},
   "outputs": [
    {
     "name": "stdout",
     "output_type": "stream",
     "text": [
      "Enter the number :7\n",
      "7 Is a Happy Number\n"
     ]
    }
   ],
   "source": [
    "def Happy(num):\n",
    "    sum = 0\n",
    "    while(num>0):\n",
    "        dig = num%10\n",
    "        sum= sum + dig**2        \n",
    "        num = num//10\n",
    "    return sum\n",
    "\n",
    "num = int(input(\"Enter the number :\"))\n",
    "result = num\n",
    "\n",
    "\n",
    "while (result != 1 and result != 4):\n",
    "    result = Happy(result)\n",
    "\n",
    "if result == 1:\n",
    "    print(num,\"Is a Happy Number\")\n",
    "else:\n",
    "    print(num,\" Is a Unhappy Number\")\n",
    "   #A number is said to be happy if it yields 1 when replaced by the sum of squares of its digits repeatedly.\n",
    "   # If this process results in an endless cycle of numbers containing 4, then the number will be an unhappy number. \n",
    "     "
   ]
  },
  {
   "cell_type": "markdown",
   "id": "e25d540c",
   "metadata": {},
   "source": [
    "# 4. Write a Python program to print all happy numbers between 1 and 100?"
   ]
  },
  {
   "cell_type": "code",
   "execution_count": 11,
   "id": "7d29c573",
   "metadata": {},
   "outputs": [
    {
     "name": "stdout",
     "output_type": "stream",
     "text": [
      "Happy numbers in range 1 to 100\n",
      "[1, 7, 10, 13, 19, 23, 28, 31, 32, 44, 49, 68, 70, 79, 82, 86, 91, 94, 97, 100]\n"
     ]
    }
   ],
   "source": [
    "def Happy(num):\n",
    "    sum = 0\n",
    "    while(num>0):\n",
    "        dig = num%10\n",
    "        sum= sum + dig**2        \n",
    "        num = num//10\n",
    "    return sum\n",
    "\n",
    "print(\"Happy numbers in range 1 to 100\")\n",
    "result=num=i=0\n",
    "happyNo = []\n",
    "for i in range(1,101):\n",
    "    result = i\n",
    "    while (result != 1 and result != 4):\n",
    "        result = Happy(result)    \n",
    "    if result == 1:\n",
    "        happyNo.append(i)\n",
    "print(happyNo)"
   ]
  },
  {
   "cell_type": "markdown",
   "id": "29cfef12",
   "metadata": {},
   "source": [
    "# 5. Write a Python program to determine whether the given number is a Harshad Number?"
   ]
  },
  {
   "cell_type": "code",
   "execution_count": 12,
   "id": "91ba52dd",
   "metadata": {},
   "outputs": [
    {
     "name": "stdout",
     "output_type": "stream",
     "text": [
      "Enter a Number: 22\n",
      "22 is a Not Harshad Number\n",
      "Enter a Number: 21\n",
      "21 is a Harshad Number\n"
     ]
    }
   ],
   "source": [
    "def checkHarshadNumber():\n",
    "    in_num = input('Enter a Number: ')\n",
    "    sum = 0\n",
    "    for item in range(len(in_num)):\n",
    "        sum = sum + int(in_num[item])\n",
    "    if int(in_num)%sum == 0:\n",
    "        print(f'{in_num} is a Harshad Number')\n",
    "    else:\n",
    "        print(f'{in_num} is a Not Harshad Number')\n",
    "        \n",
    "checkHarshadNumber()\n",
    "checkHarshadNumber()"
   ]
  },
  {
   "cell_type": "markdown",
   "id": "7f514df5",
   "metadata": {},
   "source": [
    "# 6. Write a Python program to print all pronic numbers between 1 and 100?"
   ]
  },
  {
   "cell_type": "code",
   "execution_count": 13,
   "id": "975f0722",
   "metadata": {},
   "outputs": [
    {
     "name": "stdout",
     "output_type": "stream",
     "text": [
      "[0, 2, 6, 12, 20, 30, 42, 56, 72, 90, 110, 132, 156, 182, 210, 240, 272, 306, 342, 380, 420, 462, 506, 552, 600, 650, 702, 756, 812, 870, 930, 992, 1056, 1122, 1190, 1260, 1332, 1406, 1482, 1560, 1640, 1722, 1806, 1892, 1980, 2070, 2162, 2256, 2352, 2450, 2550, 2652, 2756, 2862, 2970, 3080, 3192, 3306, 3422, 3540, 3660, 3782, 3906, 4032, 4160, 4290, 4422, 4556, 4692, 4830, 4970, 5112, 5256, 5402, 5550, 5700, 5852, 6006, 6162, 6320, 6480, 6642, 6806, 6972, 7140, 7310, 7482, 7656, 7832, 8010, 8190, 8372, 8556, 8742, 8930, 9120, 9312, 9506, 9702, 9900, 10100]\n"
     ]
    }
   ],
   "source": [
    "def printPronicNumbers(start=0,end=100):\n",
    "    outputList = []\n",
    "    for ele in range(start,end+1):\n",
    "        outputList.append((ele)*(ele+1))\n",
    "    print(outputList)\n",
    "                   \n",
    "printPronicNumbers()"
   ]
  },
  {
   "cell_type": "code",
   "execution_count": null,
   "id": "1c98920c",
   "metadata": {},
   "outputs": [],
   "source": []
  }
 ],
 "metadata": {
  "kernelspec": {
   "display_name": "Python 3 (ipykernel)",
   "language": "python",
   "name": "python3"
  },
  "language_info": {
   "codemirror_mode": {
    "name": "ipython",
    "version": 3
   },
   "file_extension": ".py",
   "mimetype": "text/x-python",
   "name": "python",
   "nbconvert_exporter": "python",
   "pygments_lexer": "ipython3",
   "version": "3.9.12"
  }
 },
 "nbformat": 4,
 "nbformat_minor": 5
}
