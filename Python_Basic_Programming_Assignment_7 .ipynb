{
 "cells": [
  {
   "cell_type": "markdown",
   "id": "9cbc20ee",
   "metadata": {},
   "source": [
    "## 1. Write a Python Program to find sum of array?"
   ]
  },
  {
   "cell_type": "code",
   "execution_count": 7,
   "id": "4c0642a7",
   "metadata": {},
   "outputs": [
    {
     "name": "stdout",
     "output_type": "stream",
     "text": [
      "Sum :  28\n"
     ]
    }
   ],
   "source": [
    "sum =0\n",
    "arr = [1,2,3,4,5,6,7]\n",
    "for i in range(0,len(arr)):\n",
    "    sum+=arr[i]\n",
    "print(\"Sum : \",sum)"
   ]
  },
  {
   "cell_type": "markdown",
   "id": "3cc9f30f",
   "metadata": {},
   "source": [
    "## 2. Write a Python Program to find largest element in an array?"
   ]
  },
  {
   "cell_type": "code",
   "execution_count": 9,
   "id": "b63c9932",
   "metadata": {},
   "outputs": [
    {
     "name": "stdout",
     "output_type": "stream",
     "text": [
      "Largest element in [1, 2, 3, 4, 5, 8, 99, 101] is 101\n"
     ]
    }
   ],
   "source": [
    "a = 0\n",
    "arr = [1,2,3,4,5,8,99,101]\n",
    "for i in range(0,len(arr)):\n",
    "    if a >arr[i]:\n",
    "        print(a)\n",
    "    else:\n",
    "        c = arr[i]\n",
    "print(\"Largest element in {} is {}\".format(arr,c))        "
   ]
  },
  {
   "cell_type": "markdown",
   "id": "e78f6592",
   "metadata": {},
   "source": [
    "## 3. Write a Python Program for array rotation?"
   ]
  },
  {
   "cell_type": "code",
   "execution_count": 16,
   "id": "bc66df03",
   "metadata": {},
   "outputs": [
    {
     "name": "stdout",
     "output_type": "stream",
     "text": [
      "Enter the Array: 1,3,4,5,5,67,8\n",
      "The Reverse of Array (1, 3, 4, 5, 5, 67, 8) is (8, 67, 5, 5, 4, 3, 1)\n"
     ]
    }
   ],
   "source": [
    "def reverseOfArray():\n",
    "    in_arr = eval(input(\"Enter the Array: \"))\n",
    "    print(f\"The Reverse of Array {in_arr} is {in_arr[::-1]}\")\n",
    "    \n",
    "reverseOfArray()"
   ]
  },
  {
   "cell_type": "markdown",
   "id": "953844e8",
   "metadata": {},
   "source": [
    "## 4. Write a Python Program to Split the array and add the first part to the end?"
   ]
  },
  {
   "cell_type": "code",
   "execution_count": 17,
   "id": "1b7cbc56",
   "metadata": {},
   "outputs": [
    {
     "name": "stdout",
     "output_type": "stream",
     "text": [
      "Enter the Array: 10,9,8,7,6,5,4,3,2,1\n",
      "The Sum of First and Last Elements of Array (10, 9, 8, 7, 6, 5, 4, 3, 2, 1) is 11\n"
     ]
    }
   ],
   "source": [
    "def sumOfSplits():\n",
    "    in_arr = eval(input(\"Enter the Array: \"))\n",
    "    print(f\"The Sum of First and Last Elements of Array {in_arr} is {in_arr[0]+in_arr[-1]}\")\n",
    "    \n",
    "sumOfSplits()"
   ]
  },
  {
   "cell_type": "markdown",
   "id": "be6192ff",
   "metadata": {},
   "source": [
    "## 5. Write a Python Program to check if given array is Monotonic?"
   ]
  },
  {
   "cell_type": "code",
   "execution_count": 19,
   "id": "66d7fcb4",
   "metadata": {},
   "outputs": [
    {
     "name": "stdout",
     "output_type": "stream",
     "text": [
      "Enter the Array: 1,2,3,4\n",
      "Array (1, 2, 3, 4) is Monotonic\n",
      "Enter the Array: 1,66,32,55,10\n",
      "Array (1, 66, 32, 55, 10) is Not Monotonic\n"
     ]
    }
   ],
   "source": [
    "def checkMonotonic():\n",
    "    in_arr = eval(input(\"Enter the Array: \"))\n",
    "    if(all(in_arr[i]<=in_arr[i+1] for i in range(len(in_arr)-1)) or all(in_arr[i]>=in_arr[i+1] for i in range(len(in_arr)-1))):\n",
    "        print(f'Array {in_arr} is Monotonic')\n",
    "    else:\n",
    "        print(f'Array {in_arr} is Not Monotonic')\n",
    "\n",
    "checkMonotonic()\n",
    "checkMonotonic()"
   ]
  },
  {
   "cell_type": "code",
   "execution_count": null,
   "id": "894f6637",
   "metadata": {},
   "outputs": [],
   "source": []
  }
 ],
 "metadata": {
  "kernelspec": {
   "display_name": "Python 3 (ipykernel)",
   "language": "python",
   "name": "python3"
  },
  "language_info": {
   "codemirror_mode": {
    "name": "ipython",
    "version": 3
   },
   "file_extension": ".py",
   "mimetype": "text/x-python",
   "name": "python",
   "nbconvert_exporter": "python",
   "pygments_lexer": "ipython3",
   "version": "3.9.12"
  }
 },
 "nbformat": 4,
 "nbformat_minor": 5
}
