{
 "cells": [
  {
   "cell_type": "markdown",
   "id": "413540cf",
   "metadata": {},
   "source": [
    "## 1. Write a Python Program to Add Two Matrices?"
   ]
  },
  {
   "cell_type": "code",
   "execution_count": 1,
   "id": "9dc07e50",
   "metadata": {},
   "outputs": [
    {
     "name": "stdout",
     "output_type": "stream",
     "text": [
      "The Sum of two matrix \n",
      "\n",
      "[[1 2 3]\n",
      " [4 5 6]\n",
      " [7 8 9]]  and \n",
      "\n",
      "[[10 11 12]\n",
      " [13 14 15]\n",
      " [16 17 18]]  is \n",
      "\n",
      "[[11 13 15]\n",
      " [17 19 21]\n",
      " [23 25 27]] \n"
     ]
    }
   ],
   "source": [
    "import numpy as np\n",
    "\n",
    "mat1 = np.array([[1,2,3],\n",
    "        [4,5,6],\n",
    "        [7,8,9]])\n",
    "mat2 = np.array([[10,11,12],\n",
    "        [13,14,15],\n",
    "        [16,17,18]])\n",
    "\n",
    "Matsum = np.add(mat1,mat2)\n",
    "print(\"The Sum of two matrix \\n\\n{}  and \\n\\n{}  is \\n\\n{} \".format(mat1,mat2,Matsum))"
   ]
  },
  {
   "cell_type": "markdown",
   "id": "fb9d7e89",
   "metadata": {},
   "source": [
    "## 2. Write a Python Program to Multiply Two Matrices?"
   ]
  },
  {
   "cell_type": "code",
   "execution_count": 2,
   "id": "75919c12",
   "metadata": {},
   "outputs": [
    {
     "name": "stdout",
     "output_type": "stream",
     "text": [
      "The Multiply of two matrix   \n",
      "\n",
      "[[1 2 3]\n",
      " [4 5 6]\n",
      " [7 8 9]]  and \n",
      "\n",
      "[[10 11 12]\n",
      " [13 14 15]\n",
      " [16 17 18]]  is \n",
      "\n",
      "[[ 84  90  96]\n",
      " [201 216 231]\n",
      " [318 342 366]] \n"
     ]
    }
   ],
   "source": [
    "import numpy as np\n",
    "\n",
    "mat1 = np.array([[1,2,3],\n",
    "        [4,5,6],\n",
    "        [7,8,9]])\n",
    "mat2 = np.array([[10,11,12],\n",
    "        [13,14,15],\n",
    "        [16,17,18]])\n",
    "\n",
    "\n",
    "Math_multi = np.dot(mat1,mat2)\n",
    "\n",
    "print(\"The Multiply of two matrix   \\n\\n{}  and \\n\\n{}  is \\n\\n{} \".format(mat1,mat2,Math_multi))"
   ]
  },
  {
   "cell_type": "markdown",
   "id": "f64a4f2d",
   "metadata": {},
   "source": [
    "## 3. Write a Python Program to Transpose a Matrix?"
   ]
  },
  {
   "cell_type": "code",
   "execution_count": 3,
   "id": "004027e9",
   "metadata": {},
   "outputs": [
    {
     "name": "stdout",
     "output_type": "stream",
     "text": [
      "[[1, 2, 3], [4, 5, 6], [7, 8, 9]] -> [[1, 4, 7], [2, 5, 8], [3, 6, 9]]\n",
      "[[1, 2], [4, 5], [7, 8]] -> [[1, 4, 7], [2, 5, 8]]\n",
      "[[1, 2, 3], [4, 5, 6]] -> [[1, 4], [2, 5], [3, 6]]\n"
     ]
    }
   ],
   "source": [
    "a = [[1,2,3],[4,5,6],[7,8,9]]\n",
    "b = [[1,2],[4,5],[7,8]]\n",
    "c = [[1,2,3],[4,5,6]]\n",
    "\n",
    "def generate_transpose(in_matrix):\n",
    "    out_matrix = []\n",
    "    for ele in range(len(in_matrix[0])):\n",
    "        out_matrix.append([0 for i in range(len(in_matrix))])\n",
    "    for i in range(len(in_matrix)):\n",
    "        for j in range(len(in_matrix[i])):\n",
    "            out_matrix[j][i] = in_matrix[i][j]\n",
    "    print(f'{in_matrix} -> {out_matrix}')\n",
    "        \n",
    "generate_transpose(a)\n",
    "generate_transpose(b)\n",
    "generate_transpose(c)\n"
   ]
  },
  {
   "cell_type": "markdown",
   "id": "79ff1850",
   "metadata": {},
   "source": [
    "## 4. Write a Python Program to Sort Words in Alphabetic Order? "
   ]
  },
  {
   "cell_type": "code",
   "execution_count": 5,
   "id": "93c8c26c",
   "metadata": {},
   "outputs": [
    {
     "name": "stdout",
     "output_type": "stream",
     "text": [
      "Enter a String: Data Science master 2.0\n",
      "2.0 Data Master Science\n"
     ]
    }
   ],
   "source": [
    "def sortString():\n",
    "    in_string = input(\"Enter a String: \").title()\n",
    "    sorted_list = sorted(in_string.split(' '))\n",
    "    print(' '.join(sorted_list))\n",
    "\n",
    "sortString()"
   ]
  },
  {
   "cell_type": "markdown",
   "id": "fda17822",
   "metadata": {},
   "source": [
    "## 5. Write a Python Program to Remove Punctuation From a String?"
   ]
  },
  {
   "cell_type": "code",
   "execution_count": 8,
   "id": "976fbdc8",
   "metadata": {},
   "outputs": [
    {
     "name": "stdout",
     "output_type": "stream",
     "text": [
      "Enter a String: Lets fight !@#$%^&*()_ together \n",
      "Lets fight  together \n"
     ]
    }
   ],
   "source": [
    "def removePunctuatuions():\n",
    "    punctuations = '''!()-[]{};:'\"\\,<>./?@#$%^&*_~'''\n",
    "    in_string = input('Enter a String: ')\n",
    "    out_string = ''\n",
    "    for ele in in_string:\n",
    "        if ele not in punctuations:\n",
    "            out_string += ele\n",
    "    print(out_string)\n",
    "    \n",
    "removePunctuatuions()"
   ]
  },
  {
   "cell_type": "code",
   "execution_count": null,
   "id": "4e44b5bb",
   "metadata": {},
   "outputs": [],
   "source": []
  }
 ],
 "metadata": {
  "kernelspec": {
   "display_name": "Python 3 (ipykernel)",
   "language": "python",
   "name": "python3"
  },
  "language_info": {
   "codemirror_mode": {
    "name": "ipython",
    "version": 3
   },
   "file_extension": ".py",
   "mimetype": "text/x-python",
   "name": "python",
   "nbconvert_exporter": "python",
   "pygments_lexer": "ipython3",
   "version": "3.9.12"
  }
 },
 "nbformat": 4,
 "nbformat_minor": 5
}
