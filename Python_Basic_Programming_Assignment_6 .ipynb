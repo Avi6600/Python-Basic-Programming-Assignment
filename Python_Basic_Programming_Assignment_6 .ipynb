{
 "cells": [
  {
   "cell_type": "markdown",
   "id": "0dcf35fe",
   "metadata": {},
   "source": [
    "## 1. Write a Python Program to Display Fibonacci Sequence Using Recursion?"
   ]
  },
  {
   "cell_type": "code",
   "execution_count": 4,
   "id": "9fc990ce",
   "metadata": {},
   "outputs": [],
   "source": [
    "def fib_iter(n):\n",
    "    a=1\n",
    "    b=1\n",
    "    if n==1:\n",
    "        print('0')\n",
    "    elif n==2:\n",
    "        print('0','1')\n",
    "    else:\n",
    "        print(\"Iterative Approach: \", end=' ')\n",
    "        print('0',a,b,end=' ')\n",
    "        for i in range(n-3):\n",
    "            total = a + b\n",
    "            b=a\n",
    "            a= total\n",
    "            print(total,end=' ')\n",
    "        print()\n",
    "        return b\n"
   ]
  },
  {
   "cell_type": "code",
   "execution_count": 9,
   "id": "ee0a8b5f",
   "metadata": {},
   "outputs": [
    {
     "name": "stdout",
     "output_type": "stream",
     "text": [
      "Iterative Approach:  0 1 1 2 3 5 8 13 21 34 55 89 144 233 377 610 987 1597 2584 4181 6765 10946 17711 28657 46368 75025 121393 196418 317811 514229 832040 1346269 2178309 3524578 5702887 9227465 14930352 24157817 39088169 63245986 102334155 165580141 267914296 433494437 701408733 \n"
     ]
    },
    {
     "data": {
      "text/plain": [
       "433494437"
      ]
     },
     "execution_count": 9,
     "metadata": {},
     "output_type": "execute_result"
    }
   ],
   "source": [
    "fib_iter(45)"
   ]
  },
  {
   "cell_type": "markdown",
   "id": "4e8ab761",
   "metadata": {},
   "source": [
    "## 2. Write a Python Program to Find Factorial of Number Using Recursion?"
   ]
  },
  {
   "cell_type": "code",
   "execution_count": 10,
   "id": "fcc523d5",
   "metadata": {},
   "outputs": [
    {
     "name": "stdout",
     "output_type": "stream",
     "text": [
      "input a no : 22\n",
      "1124000727777607680000\n"
     ]
    }
   ],
   "source": [
    "def fact(n):\n",
    "    if n==0:\n",
    "        return 1\n",
    "    else:\n",
    "        return n * fact(n-1)\n",
    "\n",
    "num = int(input(\"input a no : \"))\n",
    "\n",
    "if num<0:\n",
    "    print(\"Enter positive no.\")\n",
    "else:\n",
    "    \n",
    "        print(fact(num))\n"
   ]
  },
  {
   "cell_type": "markdown",
   "id": "195bd721",
   "metadata": {},
   "source": [
    "## 3. Write a Python Program to calculate your Body Mass Index?"
   ]
  },
  {
   "cell_type": "code",
   "execution_count": 11,
   "id": "6f824f72",
   "metadata": {},
   "outputs": [
    {
     "name": "stdout",
     "output_type": "stream",
     "text": [
      "enter your height in feet : 6\n",
      "enter your weight in kilo : 69\n",
      "The BIM is =  1.9166666666666667\n"
     ]
    }
   ],
   "source": [
    "h = float(input(\"enter your height in feet : \"))\n",
    "w = float(input(\"enter your weight in kilo : \"))\n",
    "\n",
    "bmi = w/(h**2)\n",
    "\n",
    "print(\"The BIM is = \",bmi)\n"
   ]
  },
  {
   "cell_type": "markdown",
   "id": "c6bb5fcb",
   "metadata": {},
   "source": [
    "### 4. Write a Python Program to calculate the natural logarithm of any number?"
   ]
  },
  {
   "cell_type": "code",
   "execution_count": 12,
   "id": "cbf7d390",
   "metadata": {},
   "outputs": [
    {
     "name": "stdout",
     "output_type": "stream",
     "text": [
      "Enter a number : 43\n",
      "Log of 43 is 3.7612001156935624\n"
     ]
    }
   ],
   "source": [
    "import math\n",
    "x = int(input((\"Enter a number : \")))\n",
    "log = math.log(x)\n",
    "print(\"Log of {} is {}\".format(x, log))"
   ]
  },
  {
   "cell_type": "markdown",
   "id": "8d4c5c42",
   "metadata": {},
   "source": [
    "## 5. Write a Python Program for cube sum of first n natural numbers?"
   ]
  },
  {
   "cell_type": "code",
   "execution_count": 13,
   "id": "f55d6891",
   "metadata": {},
   "outputs": [
    {
     "name": "stdout",
     "output_type": "stream",
     "text": [
      "Enter a no :34\n",
      "Cube sum of 34 natural numbers is 354025\n"
     ]
    }
   ],
   "source": [
    "num = int(input(\"Enter a no :\"))\n",
    "sum = 0\n",
    "for i in range(1 , num+1):\n",
    "    sum = sum + i**3\n",
    "print(\"Cube sum of {} natural numbers is {}\".format(num,sum))"
   ]
  },
  {
   "cell_type": "code",
   "execution_count": null,
   "id": "b9db9917",
   "metadata": {},
   "outputs": [],
   "source": []
  }
 ],
 "metadata": {
  "kernelspec": {
   "display_name": "Python 3 (ipykernel)",
   "language": "python",
   "name": "python3"
  },
  "language_info": {
   "codemirror_mode": {
    "name": "ipython",
    "version": 3
   },
   "file_extension": ".py",
   "mimetype": "text/x-python",
   "name": "python",
   "nbconvert_exporter": "python",
   "pygments_lexer": "ipython3",
   "version": "3.9.12"
  }
 },
 "nbformat": 4,
 "nbformat_minor": 5
}
